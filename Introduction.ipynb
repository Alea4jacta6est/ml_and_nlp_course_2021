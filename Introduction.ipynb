{
 "cells": [
  {
   "cell_type": "markdown",
   "metadata": {
    "slideshow": {
     "slide_type": "slide"
    }
   },
   "source": [
    "# ML in graphs lab\n",
    "\n",
    "\n",
    "**Цели и задачи**: Сформировать базовый бэкграунд в области машинного обучения на графах, а также освоить основные принципы работы с текстами (NLP). Научиться использовать инструментарий, необходимый для успешного решения задач из индустрии на стыке NLP и графов."
   ]
  },
  {
   "cell_type": "markdown",
   "metadata": {
    "slideshow": {
     "slide_type": "slide"
    }
   },
   "source": [
    "# План лекции\n",
    "\n",
    "1) Графы, классификация графов, основные понятия и представление в компьютере\n",
    "\n",
    "2) Типовые ML задачи на графах \n",
    "\n",
    "3) Онтология vs Таксономия vs Knowledge Graph \n",
    "\n",
    "4) Обсуждение дезе"
   ]
  },
  {
   "cell_type": "markdown",
   "metadata": {
    "slideshow": {
     "slide_type": "slide"
    }
   },
   "source": [
    "## Определение и классификация\n",
    "\n",
    "**Граф** - это совокупность двух множеств — множества вершин и множества их парных связей (рёбер).\n",
    "\n",
    "\n",
    "|Ориентированность              | Наличие/отсутствие весов |\n",
    "|------------------------------:|:-------------------------|\n",
    "|<img src=\"pictures/graphs.png\"/>|<img src=\"pictures/graphs_w.png\"/>|"
   ]
  },
  {
   "cell_type": "markdown",
   "metadata": {
    "slideshow": {
     "slide_type": "slide"
    }
   },
   "source": [
    "## Способы задания графов\n",
    "\n",
    "**Adjacency Matrix** is a 2D array of size VxV where V is the number of vertices in a graph. \n",
    "\n",
    "**Adjacency List** is an array of lists. The size of the array is equal to the number of vertices. An entry array i represents the list of vertices adjacent to the ith vertex. This representation can also be used to represent a weighted graph. The weights of edges can be represented as lists of pairs. \n",
    "\n",
    "**Incidence Matrix/List** represents vertex-edge pairs in the same way.\n",
    "\n",
    "|              | |\n",
    "|------------------------------:|:-------------------------|\n",
    "|<img src=\"pictures/Adjacency-Matrix-vs-Adjacency-List.png\" width=400/>|<img src=\"pictures/Incidence-Matrix.png\" width=200/>|\n",
    "\n",
    "\n"
   ]
  },
  {
   "cell_type": "markdown",
   "metadata": {
    "slideshow": {
     "slide_type": "slide"
    }
   },
   "source": [
    "|Representation|   Pros      |    Cons        | \n",
    "|--------|:---------------:|------------------:|\n",
    "| Adjacency Matrix | Representation is easier to implement and follow. Removing an edge takes O(1) time. Queries like whether there is an edge from vertex ‘u’ to vertex ‘v’ are efficient and can be done O(1). | Consumes more space O(V^2). Even if the graph is sparse(contains less number of edges), it consumes the same space. Adding a vertex is O(V^2) time.|\n",
    "| Adjacency List   | Saves space O(V+E) . In the worst case, there can be C(V, 2) number of edges in a graph thus consuming O(V^2) space. Adding a vertex is easier. | Queries like whether there is an edge from vertex u to vertex v are not efficient and can be done O(V).|\n",
    "\n",
    "_______________________________\n",
    "Resources:\n",
    "\n",
    "https://www.geeksforgeeks.org/graph-and-its-representations/ - Graph and its representations with code"
   ]
  },
  {
   "cell_type": "markdown",
   "metadata": {
    "slideshow": {
     "slide_type": "slide"
    }
   },
   "source": [
    "Что объединяет классическое машинное обучение и графовое? Что делает их отличными друг от друга помимо архитектур NN?"
   ]
  },
  {
   "cell_type": "markdown",
   "metadata": {
    "slideshow": {
     "slide_type": "subslide"
    }
   },
   "source": [
    "## Features\n",
    "\n",
    "A **feature** is an individual measurable property or characteristic of a phenomenon which is relevant for solving the computational task related to a certain application.\n",
    "\n",
    "Какие признаки выделяют в следующих областях: распознавание речи, детектирование спама, компьютерное зрение? Какие признаки можно выделить при работе с графами?"
   ]
  },
  {
   "cell_type": "markdown",
   "metadata": {
    "slideshow": {
     "slide_type": "slide"
    }
   },
   "source": [
    "### Типовые ML задачи на графах              <img src=\"pictures/tasks.png\" width=600 style=\"float:right\"/>\n",
    "\n",
    "- Node classification\n",
    "\n",
    "- Link (Edge) prediction\n",
    "\n",
    "- Graph classification   \n",
    "\n",
    "- Clustering\n",
    "\n",
    "- Graph generation\n",
    "\n",
    "- Graph evolution"
   ]
  },
  {
   "cell_type": "markdown",
   "metadata": {
    "slideshow": {
     "slide_type": "slide"
    }
   },
   "source": [
    "# Features in node classification \n",
    "\n",
    "### Importance-based features <img src=\"pictures/network_people.png\" width=400 style=\"float:right\"/>\n",
    "\n",
    "- Node degree\n",
    "- Node centrality\n",
    "\n",
    "*When to use*: predicting influential nodes in a graph\n",
    "\n",
    "*Example*: predicting celebrity users in a social network\n",
    "\n"
   ]
  },
  {
   "cell_type": "markdown",
   "metadata": {
    "slideshow": {
     "slide_type": "subslide"
    }
   },
   "source": [
    "# Features in node classification \n",
    "\n",
    "### Structure-based features <img src=\"pictures/ProteinProtein.jpg\" width=400 style=\"float:right\"/>\n",
    "\n",
    "- Node degree\n",
    "- Clustering coefficient\n",
    "- Graphlets count vector\n",
    "\n",
    "*When to use*: for predicting a particular role a node plays in a graph\n",
    "\n",
    "*Example*: Predicting protein functionality in a protein protein interaction network\n",
    "\n"
   ]
  },
  {
   "cell_type": "markdown",
   "metadata": {
    "slideshow": {
     "slide_type": "slide"
    }
   },
   "source": [
    "# Features in node classification\n",
    "\n",
    "\n",
    "**Степень (валентность) вершины графа** — количество рёбер графа, инцидентных вершине. (При подсчёте степени ребро-петля учитывается дважды).\n",
    "\n",
    "<img src=\"pictures/degree.png\" width=400/>"
   ]
  },
  {
   "cell_type": "markdown",
   "metadata": {
    "slideshow": {
     "slide_type": "slide"
    }
   },
   "source": [
    "# Importance-based features in node classification \n",
    "\n",
    "### Any node centrality takes node importance in a graph into account.\n",
    "\n",
    "- Degree centrality (just degree)\n",
    "\n",
    "- Betweenness centrality\n",
    "\n",
    "- Closeness centrality\n",
    "\n",
    "- Eigenvector centrality\n",
    "\n",
    "- others\n",
    "\n",
    "<img src=\"pictures/centrality.jpg\" width=500 style=\"float:right\"/>\n"
   ]
  },
  {
   "cell_type": "markdown",
   "metadata": {
    "slideshow": {
     "slide_type": "slide"
    }
   },
   "source": [
    "## Node centrality types\n",
    "\n",
    "**Betweenness centrality** is a way of detecting the amount of influence a node has over the flow of information in a graph. It is often used to find nodes that **serve as a bridge from one part of a graph to another.**\n",
    "\n",
    "<img src=\"pictures/betweenness.jpg\" width=300 style=\"float:right\"/>\n",
    "\n",
    "To calculate betweenness centrality, you take every pair of the network and count how many times a node can interrupt the shortest paths between the two nodes of the \n",
    "pair.\n",
    "\n",
    "\n"
   ]
  },
  {
   "cell_type": "markdown",
   "metadata": {
    "slideshow": {
     "slide_type": "slide"
    }
   },
   "source": [
    "## Node centrality types\n",
    "\n",
    "**Closeness centrality** is the average length of the shortest path between the node and all other nodes in the graph. \n",
    "\n",
    "Intuition behind: the more central a node is, the closer it is to all other nodes. \n",
    "\n",
    "\n",
    "<img src=\"pictures/closeness.png\" style=\"float:right\"/>"
   ]
  },
  {
   "cell_type": "markdown",
   "metadata": {
    "slideshow": {
     "slide_type": "slide"
    }
   },
   "source": [
    "## Node centrality types\n",
    "\n",
    "**Eigenvector centrality** is an extension of degree centrality, which defines **centrality of a node as proportional to its neighbors’ importance**. When we sum up all connections of a node, not all neighbors are equally important. Let’s consider two nodes in a friend network with same degree, the one who is connected to more central nodes should be more central.\n",
    "\n",
    "Google's **PageRank** and the **Katz centrality** are variants of the eigenvector centrality.\n",
    "\n",
    "How to calculate: https://youtu.be/IIBOT3SjJZE\n",
    "<img src=\"pictures/closeness_meme.jpg\" style=\"float:right\" width=300/>\n"
   ]
  },
  {
   "cell_type": "markdown",
   "metadata": {
    "slideshow": {
     "slide_type": "skip"
    }
   },
   "source": [
    "Resources:\n",
    "\n",
    "https://aksakalli.github.io/2017/07/17/network-centrality-measures-and-their-visualization.html\n",
    "\n",
    "https://www.sscnet.ucla.edu/soc/faculty/mcfarland/soc112/cent-ans.htm "
   ]
  },
  {
   "cell_type": "markdown",
   "metadata": {
    "slideshow": {
     "slide_type": "slide"
    }
   },
   "source": [
    "# Structure-based features\n",
    "\n",
    "**Clustering coefficient** is a measure of the degree to which nodes in a graph tend to cluster together. \n",
    "\n",
    "Evidence suggests that in most real-world networks (in particular social networks) nodes tend to create tightly knit groups characterised by a relatively high density of ties; this likelihood tends to be greater than the average probability of a tie randomly established between two nodes.\n",
    "\n"
   ]
  },
  {
   "cell_type": "markdown",
   "metadata": {
    "slideshow": {
     "slide_type": "slide"
    }
   },
   "source": [
    "### Local clustering coefficient\n",
    "\n",
    "The local clustering coefficient of a vertex (node) in a graph quantifies how close its neighbours are to being a clique.\n",
    "\n",
    "(Клика неориентированного графа - подмножество его вершин, любые две из которых соединены ребром, это полный подграф первоначального графа.)\n",
    "\n",
    "### Global clustering coefficient\n",
    "\n",
    "The global version was designed to give an overall indication of the clustering in the network, whereas the local gives an indication of the embeddedness of single nodes.\n",
    "\n",
    "<img src=\"pictures/Global_clustering_coefficient.jpg\"/>"
   ]
  },
  {
   "cell_type": "markdown",
   "metadata": {
    "slideshow": {
     "slide_type": "skip"
    }
   },
   "source": [
    "How to count local, average CC:\n",
    "\n",
    "https://youtu.be/K2WF4pT5pFY"
   ]
  },
  {
   "cell_type": "markdown",
   "metadata": {
    "slideshow": {
     "slide_type": "slide"
    }
   },
   "source": [
    "# Structure-based features\n",
    "\n",
    "**Graphlet** is the largest subgraph which contains a given set of nodes and all the edges involving those chosen nodes. More formally, graphlets are small non-isomorphic induced subgraphs of a large network.\n",
    "\n",
    "<img src=\"pictures/graphlets.png\" width=500/>\n",
    "\n",
    "We will cover the methods of encoding graphlets in the next lectures. Spoilers: https://arxiv.org/pdf/1812.05473.pdf"
   ]
  },
  {
   "cell_type": "markdown",
   "metadata": {
    "slideshow": {
     "slide_type": "slide"
    }
   },
   "source": [
    "\n",
    "<img src=\"pictures/illustration-of-the-network-descriptors-degree-triangle-clustering-coefficient.jpg\"/>"
   ]
  },
  {
   "cell_type": "markdown",
   "metadata": {
    "slideshow": {
     "slide_type": "slide"
    }
   },
   "source": [
    "# Network science and its terms\n",
    "\n",
    "Наука о сетях - это научная область, которая изучает сетевые представления физических, биологических и социальных явлений, ведущие к прогнозирующим моделям этих явлений.\n",
    "\n",
    "Хаб - это вершина с таким количеством связей, которое превышает среднее количество связей в данном графе.\n",
    "\n",
    "<img src=\"pictures/scale-free-networks.png\" width=400/>\n",
    "\n",
    "\n",
    "Resources:\n",
    "\n",
    "http://networksciencebook.com - Network Science by Albert-László Barabási \n"
   ]
  },
  {
   "cell_type": "markdown",
   "metadata": {
    "slideshow": {
     "slide_type": "slide"
    }
   },
   "source": [
    "#### Онтология, таксономия и граф знаний - в чем разница?\n",
    "\n",
    "|Features|   Taxonomy      |    Ontology        | Knowledge Graph  |\n",
    "|--------|:---------------:|:------------------:| ----------------:|\n",
    "|Definition| formalizes the hierarchical relationships among concepts and specifies the term to be used to refer to each; it prescribes structure and terminology | identifies and distinguishes concepts and their relationships, a higher level of sophistication providing **richer information**. However, merely creating a set of taxonomies does not mean an ontology has been created.| Ontology + Instance data |\n",
    "|Business value | Built for known need  |  Multiple potential needs (as it's generic)  | Built for known need |\n",
    "|Function/usage | Content search/navigation  | formulation of some data searching strategies   | honestly, almost anything that can be done to the information  |"
   ]
  },
  {
   "cell_type": "markdown",
   "metadata": {
    "slideshow": {
     "slide_type": "skip"
    }
   },
   "source": [
    "Resources:\n",
    "\n",
    "https://youtu.be/3KA__Dcb8Ns - Quadrant company's lecture\n",
    "\n",
    "http://www.greenchameleon.com/uploads/PK_1_Lambe.pdf - awesome presentation with definitions\n",
    "\n",
    "https://www.sciencedirect.com/science/article/pii/S2210832717300649 - The use of ontologies for effective knowledge modelling and information retrieval\n",
    "\n",
    "http://www.semantic-web-journal.net/system/files/swj2198.pdf - On The Role of Knowledge Graphs inExplainable AI"
   ]
  },
  {
   "cell_type": "markdown",
   "metadata": {
    "slideshow": {
     "slide_type": "slide"
    }
   },
   "source": [
    "Taxonomy | Knowledge Graph (where the ontology is the component in blue)\n",
    ":-------------------------:|:-------------------------:\n",
    "<img src=\"pictures/taxonomy.png\" style=\"width:250px;\"/> |             <img src=\"pictures/KG.png\" style=\"width:320px;\"/>\n"
   ]
  },
  {
   "cell_type": "markdown",
   "metadata": {
    "slideshow": {
     "slide_type": "slide"
    }
   },
   "source": [
    "## Дезе:\n",
    "\n",
    "Получить доступ к бесплатному API Кинопоиска: https://kinopoisk.cloud/\n",
    "(100 запросов в сутки должно быть достаточно для извлечения данных, с которыми можно работать)\n",
    "\n",
    "Составить граф взаимодействия n актеров таким образом, чтобы вес ребра между актером А и Б равнялся количеству фильмов, в которых они играли вместе. Визуализировать эту информацию, добавить ребра разной толщины в зависимости от их веса, если связь между актерами только одна - подписать, каким фильмом они связаны.\n",
    "\n",
    "Посчитать метрики: degree, betweenness centrality, closeness centrality.\n",
    "Есть ли в вашем графе хаб? Визуализируйте его.\n",
    "\n",
    "Используйте https://streamlit.io/ для демонстрации того, что вам удалось сделать. (Нужен веб интерфейс, который можно открыть и потыкать локально, оценив качество и количество проделанной работы). Компонент для использования графов: https://www.google.ru/amp/s/blog.streamlit.io/the-streamlit-agraph-component/amp/\n",
    "\n",
    "Подумайте, на какие вопросы вы хотели бы получить ответ как исследователь киноиндустрии. Желательно парсить их таким образом, чтобы в том числе проверить, а можно ли финальный граф разделить на кластеры. (Например, по жанрам и актерам в них).\n",
    "\n",
    "Библиотеки для работы с графами на ваш выбор:\n",
    "\n",
    "https://networkx.org/documentation/stable/index.html (интерфейс для подсчета метрик тут)\n",
    "\n",
    "https://pyvis.readthedocs.io/en/latest/index.html\n",
    "\n",
    "https://graphviz.readthedocs.io/en/stable/manual.html"
   ]
  },
  {
   "cell_type": "code",
   "execution_count": 13,
   "metadata": {
    "scrolled": true,
    "slideshow": {
     "slide_type": "subslide"
    }
   },
   "outputs": [
    {
     "name": "stdout",
     "output_type": "stream",
     "text": [
      "{'actors': ['Эван Рэйчел Вуд',\n",
      "            'Тэнди Ньютон',\n",
      "            'Джеффри Райт',\n",
      "            'Эд Харрис',\n",
      "            'Тесса Томпсон',\n",
      "            'Джеймс Марсден',\n",
      "            'Энтони Хопкинс',\n",
      "            'Анджела Сарафян',\n",
      "            'Люк Хемсворт',\n",
      "            'Саймон Куотерман',\n",
      "            'Марина Гладкая',\n",
      "            'Мария Цветкова-Овсянникова',\n",
      "            'Олег Фёдоров',\n",
      "            'Станислав Концевич',\n",
      "            'Игорь Сергеев'],\n",
      " 'age': 'зрителям, достигшим 18 лет',\n",
      " 'budget': '$100000000',\n",
      " 'collapse': {'duration': ['62 мин. / 01:02'],\n",
      "              'episodes': None,\n",
      "              'quality': ['HD (720p)'],\n",
      "              'seasons': None,\n",
      "              'url': ['/embed/movie/303'],\n",
      "              'voice': ['Кравец-Рекордз',\n",
      "                        'Eng.Original',\n",
      "                        'Amedia',\n",
      "                        'NewStudio',\n",
      "                        'AlexFilm',\n",
      "                        'HDRezka Studio']},\n",
      " 'composers': ['Рамин Джавади'],\n",
      " 'countries': ['США'],\n",
      " 'description': 'В футуристическом парке развлечений «Мир Дикого Запада» '\n",
      "                'специально сконструированные андроиды выполняют любые прихоти '\n",
      "                'посетителей, чтобы те\\xa0чувствовали безнаказанность и\\xa0'\n",
      "                'полную свободу действий. Если робота убили\\xa0\\x97\\xa0не '\n",
      "                'беда, техники его\\xa0починят, сотрут память и\\xa0снова '\n",
      "                'поставят в\\xa0строй, навстречу новому дню\\xa0и новым людским '\n",
      "                'прихотям. Но\\xa0оказывается, что\\xa0далеко не\\xa0все роботы '\n",
      "                'теряют воспоминания.',\n",
      " 'directors': ['Ричард Дж. Льюис', 'Джонатан Нолан', 'Фред Туа'],\n",
      " 'editors': ['Эндрю Секлир', 'Таня М. Свелинг', 'Марк Ёшикава'],\n",
      " 'fees_russia': None,\n",
      " 'fees_world': None,\n",
      " 'frames': ['https://st.kp.yandex.net/im/kadr/2/6/3/kinopoisk.ru-Westworld-2631733.jpg',\n",
      "            'https://st.kp.yandex.net/im/kadr/2/6/3/kinopoisk.ru-Westworld-2631734.jpg',\n",
      "            'https://st.kp.yandex.net/im/kadr/2/6/3/kinopoisk.ru-Westworld-2631735.jpg',\n",
      "            'https://st.kp.yandex.net/im/kadr/2/6/3/kinopoisk.ru-Westworld-2631736.jpg',\n",
      "            'https://st.kp.yandex.net/im/kadr/2/8/0/kinopoisk.ru-Westworld-2804365.jpg',\n",
      "            'https://st.kp.yandex.net/im/kadr/2/8/0/kinopoisk.ru-Westworld-2804366.jpg',\n",
      "            'https://st.kp.yandex.net/im/kadr/2/8/0/kinopoisk.ru-Westworld-2804367.jpg',\n",
      "            'https://st.kp.yandex.net/im/kadr/2/8/0/kinopoisk.ru-Westworld-2804368.jpg',\n",
      "            'https://st.kp.yandex.net/im/kadr/2/8/0/kinopoisk.ru-Westworld-2804369.jpg',\n",
      "            'https://st.kp.yandex.net/im/kadr/2/8/0/kinopoisk.ru-Westworld-2804370.jpg',\n",
      "            'https://st.kp.yandex.net/im/kadr/2/8/0/kinopoisk.ru-Westworld-2804371.jpg',\n",
      "            'https://st.kp.yandex.net/im/kadr/2/8/0/kinopoisk.ru-Westworld-2804372.jpg',\n",
      "            'https://st.kp.yandex.net/im/kadr/2/8/0/kinopoisk.ru-Westworld-2804373.jpg',\n",
      "            'https://st.kp.yandex.net/im/kadr/2/8/0/kinopoisk.ru-Westworld-2804374.jpg',\n",
      "            'https://st.kp.yandex.net/im/kadr/2/8/0/kinopoisk.ru-Westworld-2804375.jpg',\n",
      "            'https://st.kp.yandex.net/im/kadr/2/8/0/kinopoisk.ru-Westworld-2804376.jpg',\n",
      "            'https://st.kp.yandex.net/im/kadr/2/8/0/kinopoisk.ru-Westworld-2804377.jpg',\n",
      "            'https://st.kp.yandex.net/im/kadr/2/8/0/kinopoisk.ru-Westworld-2804378.jpg',\n",
      "            'https://st.kp.yandex.net/im/kadr/2/8/0/kinopoisk.ru-Westworld-2804379.jpg',\n",
      "            'https://st.kp.yandex.net/im/kadr/2/8/0/kinopoisk.ru-Westworld-2804380.jpg',\n",
      "            'https://st.kp.yandex.net/im/kadr/2/8/2/kinopoisk.ru-Westworld-2829087.jpg',\n",
      "            'https://st.kp.yandex.net/im/kadr/2/8/2/kinopoisk.ru-Westworld-2829088.jpg',\n",
      "            'https://st.kp.yandex.net/im/kadr/2/8/2/kinopoisk.ru-Westworld-2829089.jpg',\n",
      "            'https://st.kp.yandex.net/im/kadr/2/8/2/kinopoisk.ru-Westworld-2829090.jpg',\n",
      "            'https://st.kp.yandex.net/im/kadr/2/8/2/kinopoisk.ru-Westworld-2829091.jpg',\n",
      "            'https://st.kp.yandex.net/im/kadr/2/8/2/kinopoisk.ru-Westworld-2829092.jpg',\n",
      "            'https://st.kp.yandex.net/im/kadr/2/8/2/kinopoisk.ru-Westworld-2829093.jpg',\n",
      "            'https://st.kp.yandex.net/im/kadr/2/8/2/kinopoisk.ru-Westworld-2829094.jpg',\n",
      "            'https://st.kp.yandex.net/im/kadr/2/8/2/kinopoisk.ru-Westworld-2829095.jpg',\n",
      "            'https://st.kp.yandex.net/im/kadr/2/8/2/kinopoisk.ru-Westworld-2829096.jpg',\n",
      "            'https://st.kp.yandex.net/im/kadr/2/8/2/kinopoisk.ru-Westworld-2829097.jpg',\n",
      "            'https://st.kp.yandex.net/im/kadr/2/8/2/kinopoisk.ru-Westworld-2829098.jpg',\n",
      "            'https://st.kp.yandex.net/im/kadr/2/8/2/kinopoisk.ru-Westworld-2829099.jpg',\n",
      "            'https://st.kp.yandex.net/im/kadr/2/8/2/kinopoisk.ru-Westworld-2829100.jpg',\n",
      "            'https://st.kp.yandex.net/im/kadr/2/8/2/kinopoisk.ru-Westworld-2829101.jpg',\n",
      "            'https://st.kp.yandex.net/im/kadr/2/8/2/kinopoisk.ru-Westworld-2829102.jpg',\n",
      "            'https://st.kp.yandex.net/im/kadr/2/8/2/kinopoisk.ru-Westworld-2829103.jpg',\n",
      "            'https://st.kp.yandex.net/im/kadr/2/8/2/kinopoisk.ru-Westworld-2829104.jpg',\n",
      "            'https://st.kp.yandex.net/im/kadr/2/8/2/kinopoisk.ru-Westworld-2829105.jpg',\n",
      "            'https://st.kp.yandex.net/im/kadr/2/8/2/kinopoisk.ru-Westworld-2829106.jpg',\n",
      "            'https://st.kp.yandex.net/im/kadr/2/8/2/kinopoisk.ru-Westworld-2829107.jpg',\n",
      "            'https://st.kp.yandex.net/im/kadr/2/8/2/kinopoisk.ru-Westworld-2829108.jpg',\n",
      "            'https://st.kp.yandex.net/im/kadr/2/8/2/kinopoisk.ru-Westworld-2829109.jpg',\n",
      "            'https://st.kp.yandex.net/im/kadr/2/8/2/kinopoisk.ru-Westworld-2829110.jpg',\n",
      "            'https://st.kp.yandex.net/im/kadr/2/8/2/kinopoisk.ru-Westworld-2829111.jpg',\n",
      "            'https://st.kp.yandex.net/im/kadr/2/8/2/kinopoisk.ru-Westworld-2829112.jpg',\n",
      "            'https://st.kp.yandex.net/im/kadr/2/8/2/kinopoisk.ru-Westworld-2829113.jpg',\n",
      "            'https://st.kp.yandex.net/im/kadr/2/8/2/kinopoisk.ru-Westworld-2829114.jpg',\n",
      "            'https://st.kp.yandex.net/im/kadr/2/8/2/kinopoisk.ru-Westworld-2829115.jpg',\n",
      "            'https://st.kp.yandex.net/im/kadr/2/8/2/kinopoisk.ru-Westworld-2829116.jpg',\n",
      "            'https://st.kp.yandex.net/im/kadr/2/8/2/kinopoisk.ru-Westworld-2829117.jpg',\n",
      "            'https://st.kp.yandex.net/im/kadr/2/8/2/kinopoisk.ru-Westworld-2829118.jpg',\n",
      "            'https://st.kp.yandex.net/im/kadr/2/8/2/kinopoisk.ru-Westworld-2829119.jpg',\n",
      "            'https://st.kp.yandex.net/im/kadr/2/8/2/kinopoisk.ru-Westworld-2829120.jpg',\n",
      "            'https://st.kp.yandex.net/im/kadr/2/8/2/kinopoisk.ru-Westworld-2829121.jpg',\n",
      "            'https://st.kp.yandex.net/im/kadr/2/8/2/kinopoisk.ru-Westworld-2829122.jpg',\n",
      "            'https://st.kp.yandex.net/im/kadr/2/8/2/kinopoisk.ru-Westworld-2829123.jpg',\n",
      "            'https://st.kp.yandex.net/im/kadr/2/8/2/kinopoisk.ru-Westworld-2829124.jpg',\n",
      "            'https://st.kp.yandex.net/im/kadr/2/8/2/kinopoisk.ru-Westworld-2829125.jpg',\n",
      "            'https://st.kp.yandex.net/im/kadr/2/8/2/kinopoisk.ru-Westworld-2829126.jpg',\n",
      "            'https://st.kp.yandex.net/im/kadr/2/8/2/kinopoisk.ru-Westworld-2829127.jpg',\n",
      "            'https://st.kp.yandex.net/im/kadr/2/8/2/kinopoisk.ru-Westworld-2829128.jpg',\n",
      "            'https://st.kp.yandex.net/im/kadr/2/8/2/kinopoisk.ru-Westworld-2829129.jpg',\n",
      "            'https://st.kp.yandex.net/im/kadr/2/8/2/kinopoisk.ru-Westworld-2829130.jpg',\n",
      "            'https://st.kp.yandex.net/im/kadr/2/8/2/kinopoisk.ru-Westworld-2829131.jpg',\n",
      "            'https://st.kp.yandex.net/im/kadr/2/8/2/kinopoisk.ru-Westworld-2829132.jpg',\n",
      "            'https://st.kp.yandex.net/im/kadr/2/8/2/kinopoisk.ru-Westworld-2829133.jpg',\n",
      "            'https://st.kp.yandex.net/im/kadr/2/8/2/kinopoisk.ru-Westworld-2829134.jpg',\n",
      "            'https://st.kp.yandex.net/im/kadr/2/8/2/kinopoisk.ru-Westworld-2829135.jpg',\n",
      "            'https://st.kp.yandex.net/im/kadr/2/8/2/kinopoisk.ru-Westworld-2829136.jpg',\n",
      "            'https://st.kp.yandex.net/im/kadr/2/8/2/kinopoisk.ru-Westworld-2829137.jpg',\n",
      "            'https://st.kp.yandex.net/im/kadr/2/8/2/kinopoisk.ru-Westworld-2829138.jpg',\n",
      "            'https://st.kp.yandex.net/im/kadr/2/8/2/kinopoisk.ru-Westworld-2829139.jpg',\n",
      "            'https://st.kp.yandex.net/im/kadr/2/8/2/kinopoisk.ru-Westworld-2829140.jpg',\n",
      "            'https://st.kp.yandex.net/im/kadr/2/8/2/kinopoisk.ru-Westworld-2829141.jpg',\n",
      "            'https://st.kp.yandex.net/im/kadr/2/8/2/kinopoisk.ru-Westworld-2829142.jpg',\n",
      "            'https://st.kp.yandex.net/im/kadr/2/8/2/kinopoisk.ru-Westworld-2829143.jpg',\n",
      "            'https://st.kp.yandex.net/im/kadr/2/8/2/kinopoisk.ru-Westworld-2829144.jpg',\n",
      "            'https://st.kp.yandex.net/im/kadr/2/8/2/kinopoisk.ru-Westworld-2829145.jpg',\n",
      "            'https://st.kp.yandex.net/im/kadr/2/8/2/kinopoisk.ru-Westworld-2829146.jpg',\n",
      "            'https://st.kp.yandex.net/im/kadr/2/8/3/kinopoisk.ru-Westworld-2831436.jpg',\n",
      "            'https://st.kp.yandex.net/im/kadr/2/8/3/kinopoisk.ru-Westworld-2831437.jpg',\n",
      "            'https://st.kp.yandex.net/im/kadr/2/8/3/kinopoisk.ru-Westworld-2831438.jpg',\n",
      "            'https://st.kp.yandex.net/im/kadr/2/8/3/kinopoisk.ru-Westworld-2831439.jpg',\n",
      "            'https://st.kp.yandex.net/im/kadr/2/8/3/kinopoisk.ru-Westworld-2831440.jpg',\n",
      "            'https://st.kp.yandex.net/im/kadr/2/8/3/kinopoisk.ru-Westworld-2831441.jpg',\n",
      "            'https://st.kp.yandex.net/im/kadr/2/8/3/kinopoisk.ru-Westworld-2831442.jpg',\n",
      "            'https://st.kp.yandex.net/im/kadr/2/8/3/kinopoisk.ru-Westworld-2831443.jpg',\n",
      "            'https://st.kp.yandex.net/im/kadr/2/8/3/kinopoisk.ru-Westworld-2831444.jpg',\n",
      "            'https://st.kp.yandex.net/im/kadr/2/8/3/kinopoisk.ru-Westworld-2831445.jpg',\n",
      "            'https://st.kp.yandex.net/im/kadr/2/8/3/kinopoisk.ru-Westworld-2831446.jpg',\n",
      "            'https://st.kp.yandex.net/im/kadr/2/8/3/kinopoisk.ru-Westworld-2831447.jpg',\n",
      "            'https://st.kp.yandex.net/im/kadr/2/8/3/kinopoisk.ru-Westworld-2831448.jpg',\n",
      "            'https://st.kp.yandex.net/im/kadr/2/8/3/kinopoisk.ru-Westworld-2831449.jpg',\n",
      "            'https://st.kp.yandex.net/im/kadr/2/8/3/kinopoisk.ru-Westworld-2834041.jpg',\n",
      "            'https://st.kp.yandex.net/im/kadr/2/8/3/kinopoisk.ru-Westworld-2834042.jpg',\n",
      "            'https://st.kp.yandex.net/im/kadr/2/8/3/kinopoisk.ru-Westworld-2834043.jpg',\n",
      "            'https://st.kp.yandex.net/im/kadr/2/8/3/kinopoisk.ru-Westworld-2834044.jpg',\n",
      "            'https://st.kp.yandex.net/im/kadr/2/8/3/kinopoisk.ru-Westworld-2834045.jpg',\n",
      "            'https://st.kp.yandex.net/im/kadr/2/8/3/kinopoisk.ru-Westworld-2834046.jpg',\n",
      "            'https://st.kp.yandex.net/im/kadr/2/8/3/kinopoisk.ru-Westworld-2834047.jpg',\n",
      "            'https://st.kp.yandex.net/im/kadr/2/8/3/kinopoisk.ru-Westworld-2834048.jpg',\n",
      "            'https://st.kp.yandex.net/im/kadr/2/8/3/kinopoisk.ru-Westworld-2834049.jpg',\n",
      "            'https://st.kp.yandex.net/im/kadr/2/8/3/kinopoisk.ru-Westworld-2834050.jpg',\n",
      "            'https://st.kp.yandex.net/im/kadr/2/8/3/kinopoisk.ru-Westworld-2834168.jpg',\n",
      "            'https://st.kp.yandex.net/im/kadr/2/8/3/kinopoisk.ru-Westworld-2834169.jpg',\n",
      "            'https://st.kp.yandex.net/im/kadr/2/8/3/kinopoisk.ru-Westworld-2834170.jpg',\n",
      "            'https://st.kp.yandex.net/im/kadr/2/8/3/kinopoisk.ru-Westworld-2834171.jpg',\n",
      "            'https://st.kp.yandex.net/im/kadr/2/8/3/kinopoisk.ru-Westworld-2834172.jpg',\n",
      "            'https://st.kp.yandex.net/im/kadr/2/8/3/kinopoisk.ru-Westworld-2834173.jpg',\n",
      "            'https://st.kp.yandex.net/im/kadr/2/8/3/kinopoisk.ru-Westworld-2834174.jpg',\n",
      "            'https://st.kp.yandex.net/im/kadr/2/8/3/kinopoisk.ru-Westworld-2835177.jpg',\n",
      "            'https://st.kp.yandex.net/im/kadr/2/8/3/kinopoisk.ru-Westworld-2835178.jpg',\n",
      "            'https://st.kp.yandex.net/im/kadr/2/8/3/kinopoisk.ru-Westworld-2835179.jpg',\n",
      "            'https://st.kp.yandex.net/im/kadr/2/8/3/kinopoisk.ru-Westworld-2835180.jpg',\n",
      "            'https://st.kp.yandex.net/im/kadr/2/8/3/kinopoisk.ru-Westworld-2835181.jpg',\n",
      "            'https://st.kp.yandex.net/im/kadr/2/8/3/kinopoisk.ru-Westworld-2835182.jpg',\n",
      "            'https://st.kp.yandex.net/im/kadr/2/8/3/kinopoisk.ru-Westworld-2835183.jpg',\n",
      "            'https://st.kp.yandex.net/im/kadr/2/8/3/kinopoisk.ru-Westworld-2835184.jpg',\n",
      "            'https://st.kp.yandex.net/im/kadr/2/8/3/kinopoisk.ru-Westworld-2837500.jpg',\n",
      "            'https://st.kp.yandex.net/im/kadr/2/8/3/kinopoisk.ru-Westworld-2837501.jpg',\n",
      "            'https://st.kp.yandex.net/im/kadr/2/8/3/kinopoisk.ru-Westworld-2837502.jpg',\n",
      "            'https://st.kp.yandex.net/im/kadr/2/8/3/kinopoisk.ru-Westworld-2837503.jpg',\n",
      "            'https://st.kp.yandex.net/im/kadr/2/8/3/kinopoisk.ru-Westworld-2837504.jpg',\n",
      "            'https://st.kp.yandex.net/im/kadr/2/8/3/kinopoisk.ru-Westworld-2837505.jpg',\n",
      "            'https://st.kp.yandex.net/im/kadr/2/8/3/kinopoisk.ru-Westworld-2837666.jpg',\n",
      "            'https://st.kp.yandex.net/im/kadr/2/8/3/kinopoisk.ru-Westworld-2837668.jpg',\n",
      "            'https://st.kp.yandex.net/im/kadr/2/8/3/kinopoisk.ru-Westworld-2837669.jpg',\n",
      "            'https://st.kp.yandex.net/im/kadr/2/8/3/kinopoisk.ru-Westworld-2837670.jpg',\n",
      "            'https://st.kp.yandex.net/im/kadr/2/8/3/kinopoisk.ru-Westworld-2837672.jpg',\n",
      "            'https://st.kp.yandex.net/im/kadr/2/8/3/kinopoisk.ru-Westworld-2837673.jpg',\n",
      "            'https://st.kp.yandex.net/im/kadr/2/8/3/kinopoisk.ru-Westworld-2839486.jpg',\n",
      "            'https://st.kp.yandex.net/im/kadr/2/8/3/kinopoisk.ru-Westworld-2839487.jpg',\n",
      "            'https://st.kp.yandex.net/im/kadr/2/8/3/kinopoisk.ru-Westworld-2839488.jpg',\n",
      "            'https://st.kp.yandex.net/im/kadr/2/8/3/kinopoisk.ru-Westworld-2839489.jpg',\n",
      "            'https://st.kp.yandex.net/im/kadr/2/8/4/kinopoisk.ru-Westworld-2841718.jpg',\n",
      "            'https://st.kp.yandex.net/im/kadr/2/8/4/kinopoisk.ru-Westworld-2841719.jpg',\n",
      "            'https://st.kp.yandex.net/im/kadr/2/8/4/kinopoisk.ru-Westworld-2841720.jpg',\n",
      "            'https://st.kp.yandex.net/im/kadr/2/8/4/kinopoisk.ru-Westworld-2841721.jpg',\n",
      "            'https://st.kp.yandex.net/im/kadr/2/8/4/kinopoisk.ru-Westworld-2841722.jpg',\n",
      "            'https://st.kp.yandex.net/im/kadr/2/8/4/kinopoisk.ru-Westworld-2841723.jpg',\n",
      "            'https://st.kp.yandex.net/im/kadr/2/8/4/kinopoisk.ru-Westworld-2841724.jpg',\n",
      "            'https://st.kp.yandex.net/im/kadr/2/8/4/kinopoisk.ru-Westworld-2841725.jpg',\n",
      "            'https://st.kp.yandex.net/im/kadr/2/8/4/kinopoisk.ru-Westworld-2842007.jpg',\n",
      "            'https://st.kp.yandex.net/im/kadr/2/8/4/kinopoisk.ru-Westworld-2842008.jpg',\n",
      "            'https://st.kp.yandex.net/im/kadr/2/8/4/kinopoisk.ru-Westworld-2842009.jpg',\n",
      "            'https://st.kp.yandex.net/im/kadr/2/8/4/kinopoisk.ru-Westworld-2842010.jpg',\n",
      "            'https://st.kp.yandex.net/im/kadr/2/8/4/kinopoisk.ru-Westworld-2842011.jpg',\n",
      "            'https://st.kp.yandex.net/im/kadr/2/8/4/kinopoisk.ru-Westworld-2842012.jpg',\n",
      "            'https://st.kp.yandex.net/im/kadr/2/8/4/kinopoisk.ru-Westworld-2842013.jpg',\n",
      "            'https://st.kp.yandex.net/im/kadr/2/8/4/kinopoisk.ru-Westworld-2844009.jpg',\n",
      "            'https://st.kp.yandex.net/im/kadr/2/8/4/kinopoisk.ru-Westworld-2844010.jpg',\n",
      "            'https://st.kp.yandex.net/im/kadr/2/8/4/kinopoisk.ru-Westworld-2844011.jpg',\n",
      "            'https://st.kp.yandex.net/im/kadr/2/8/4/kinopoisk.ru-Westworld-2844012.jpg',\n",
      "            'https://st.kp.yandex.net/im/kadr/2/8/4/kinopoisk.ru-Westworld-2844013.jpg',\n",
      "            'https://st.kp.yandex.net/im/kadr/2/8/4/kinopoisk.ru-Westworld-2844473.jpg',\n",
      "            'https://st.kp.yandex.net/im/kadr/2/8/4/kinopoisk.ru-Westworld-2844474.jpg',\n",
      "            'https://st.kp.yandex.net/im/kadr/2/8/4/kinopoisk.ru-Westworld-2844475.jpg',\n",
      "            'https://st.kp.yandex.net/im/kadr/2/8/4/kinopoisk.ru-Westworld-2844476.jpg',\n",
      "            'https://st.kp.yandex.net/im/kadr/2/8/4/kinopoisk.ru-Westworld-2844477.jpg',\n",
      "            'https://st.kp.yandex.net/im/kadr/2/8/4/kinopoisk.ru-Westworld-2844478.jpg',\n",
      "            'https://st.kp.yandex.net/im/kadr/2/8/4/kinopoisk.ru-Westworld-2844479.jpg',\n",
      "            'https://st.kp.yandex.net/im/kadr/2/8/4/kinopoisk.ru-Westworld-2844480.jpg',\n",
      "            'https://st.kp.yandex.net/im/kadr/2/8/4/kinopoisk.ru-Westworld-2846891.jpg',\n",
      "            'https://st.kp.yandex.net/im/kadr/2/8/4/kinopoisk.ru-Westworld-2846892.jpg',\n",
      "            'https://st.kp.yandex.net/im/kadr/2/8/4/kinopoisk.ru-Westworld-2846893.jpg',\n",
      "            'https://st.kp.yandex.net/im/kadr/2/8/4/kinopoisk.ru-Westworld-2846894.jpg',\n",
      "            'https://st.kp.yandex.net/im/kadr/2/8/4/kinopoisk.ru-Westworld-2846895.jpg',\n",
      "            'https://st.kp.yandex.net/im/kadr/2/8/4/kinopoisk.ru-Westworld-2846896.jpg',\n",
      "            'https://st.kp.yandex.net/im/kadr/2/8/4/kinopoisk.ru-Westworld-2846897.jpg',\n",
      "            'https://st.kp.yandex.net/im/kadr/2/8/4/kinopoisk.ru-Westworld-2846898.jpg',\n",
      "            'https://st.kp.yandex.net/im/kadr/2/8/4/kinopoisk.ru-Westworld-2846899.jpg',\n",
      "            'https://st.kp.yandex.net/im/kadr/2/8/4/kinopoisk.ru-Westworld-2847246.jpg',\n",
      "            'https://st.kp.yandex.net/im/kadr/2/8/4/kinopoisk.ru-Westworld-2847247.jpg',\n",
      "            'https://st.kp.yandex.net/im/kadr/2/8/4/kinopoisk.ru-Westworld-2847248.jpg',\n",
      "            'https://st.kp.yandex.net/im/kadr/2/8/4/kinopoisk.ru-Westworld-2847249.jpg',\n",
      "            'https://st.kp.yandex.net/im/kadr/2/8/4/kinopoisk.ru-Westworld-2847250.jpg',\n",
      "            'https://st.kp.yandex.net/im/kadr/2/8/4/kinopoisk.ru-Westworld-2849419.jpg',\n",
      "            'https://st.kp.yandex.net/im/kadr/2/8/4/kinopoisk.ru-Westworld-2849420.jpg',\n",
      "            'https://st.kp.yandex.net/im/kadr/2/8/4/kinopoisk.ru-Westworld-2849421.jpg',\n",
      "            'https://st.kp.yandex.net/im/kadr/2/8/4/kinopoisk.ru-Westworld-2849422.jpg',\n",
      "            'https://st.kp.yandex.net/im/kadr/2/8/5/kinopoisk.ru-Westworld-2853379.jpg',\n",
      "            'https://st.kp.yandex.net/im/kadr/2/8/5/kinopoisk.ru-Westworld-2853380.jpg',\n",
      "            'https://st.kp.yandex.net/im/kadr/2/8/5/kinopoisk.ru-Westworld-2853381.jpg',\n",
      "            'https://st.kp.yandex.net/im/kadr/2/8/5/kinopoisk.ru-Westworld-2853382.jpg',\n",
      "            'https://st.kp.yandex.net/im/kadr/2/8/5/kinopoisk.ru-Westworld-2853383.jpg',\n",
      "            'https://st.kp.yandex.net/im/kadr/2/8/5/kinopoisk.ru-Westworld-2853384.jpg',\n",
      "            'https://st.kp.yandex.net/im/kadr/2/8/5/kinopoisk.ru-Westworld-2853385.jpg',\n",
      "            'https://st.kp.yandex.net/im/kadr/2/8/5/kinopoisk.ru-Westworld-2853386.jpg',\n",
      "            'https://st.kp.yandex.net/im/kadr/2/8/5/kinopoisk.ru-Westworld-2853799.jpg',\n",
      "            'https://st.kp.yandex.net/im/kadr/2/8/5/kinopoisk.ru-Westworld-2853800.jpg',\n",
      "            'https://st.kp.yandex.net/im/kadr/2/8/5/kinopoisk.ru-Westworld-2853801.jpg',\n",
      "            'https://st.kp.yandex.net/im/kadr/2/8/5/kinopoisk.ru-Westworld-2853802.jpg',\n",
      "            'https://st.kp.yandex.net/im/kadr/2/8/5/kinopoisk.ru-Westworld-2857365.jpg',\n",
      "            'https://st.kp.yandex.net/im/kadr/2/8/5/kinopoisk.ru-Westworld-2857366.jpg',\n",
      "            'https://st.kp.yandex.net/im/kadr/2/8/5/kinopoisk.ru-Westworld-2857368.jpg',\n",
      "            'https://st.kp.yandex.net/im/kadr/2/8/5/kinopoisk.ru-Westworld-2857369.jpg',\n",
      "            'https://st.kp.yandex.net/im/kadr/2/8/5/kinopoisk.ru-Westworld-2857370.jpg',\n",
      "            'https://st.kp.yandex.net/im/kadr/2/8/5/kinopoisk.ru-Westworld-2857371.jpg',\n",
      "            'https://st.kp.yandex.net/im/kadr/2/8/5/kinopoisk.ru-Westworld-2857551.jpg',\n",
      "            'https://st.kp.yandex.net/im/kadr/2/8/5/kinopoisk.ru-Westworld-2857552.jpg',\n",
      "            'https://st.kp.yandex.net/im/kadr/2/8/5/kinopoisk.ru-Westworld-2857553.jpg',\n",
      "            'https://st.kp.yandex.net/im/kadr/2/8/5/kinopoisk.ru-Westworld-2857554.jpg',\n",
      "            'https://st.kp.yandex.net/im/kadr/2/8/5/kinopoisk.ru-Westworld-2857555.jpg',\n",
      "            'https://st.kp.yandex.net/im/kadr/2/8/5/kinopoisk.ru-Westworld-2857556.jpg',\n",
      "            'https://st.kp.yandex.net/im/kadr/2/8/5/kinopoisk.ru-Westworld-2857557.jpg',\n",
      "            'https://st.kp.yandex.net/im/kadr/2/8/5/kinopoisk.ru-Westworld-2857558.jpg',\n",
      "            'https://st.kp.yandex.net/im/kadr/2/8/5/kinopoisk.ru-Westworld-2857559.jpg',\n",
      "            'https://st.kp.yandex.net/im/kadr/3/1/3/kinopoisk.ru-Westworld-3139719.jpg',\n",
      "            'https://st.kp.yandex.net/im/kadr/3/1/3/kinopoisk.ru-Westworld-3139723.jpg',\n",
      "            'https://st.kp.yandex.net/im/kadr/3/1/3/kinopoisk.ru-Westworld-3139724.jpg',\n",
      "            'https://st.kp.yandex.net/im/kadr/3/1/3/kinopoisk.ru-Westworld-3139725.jpg',\n",
      "            'https://st.kp.yandex.net/im/kadr/3/1/3/kinopoisk.ru-Westworld-3139726.jpg',\n",
      "            'https://st.kp.yandex.net/im/kadr/3/1/3/kinopoisk.ru-Westworld-3139727.jpg',\n",
      "            'https://st.kp.yandex.net/im/kadr/3/1/3/kinopoisk.ru-Westworld-3139728.jpg',\n",
      "            'https://st.kp.yandex.net/im/kadr/3/1/3/kinopoisk.ru-Westworld-3139729.jpg',\n",
      "            'https://st.kp.yandex.net/im/kadr/3/1/3/kinopoisk.ru-Westworld-3139730.jpg',\n",
      "            'https://st.kp.yandex.net/im/kadr/3/1/3/kinopoisk.ru-Westworld-3139732.jpg',\n",
      "            'https://st.kp.yandex.net/im/kadr/3/1/3/kinopoisk.ru-Westworld-3139734.jpg',\n",
      "            'https://st.kp.yandex.net/im/kadr/3/1/3/kinopoisk.ru-Westworld-3139735.jpg',\n",
      "            'https://st.kp.yandex.net/im/kadr/3/1/3/kinopoisk.ru-Westworld-3139736.jpg',\n",
      "            'https://st.kp.yandex.net/im/kadr/3/1/3/kinopoisk.ru-Westworld-3139737.jpg',\n",
      "            'https://st.kp.yandex.net/im/kadr/3/1/3/kinopoisk.ru-Westworld-3139738.jpg',\n",
      "            'https://st.kp.yandex.net/im/kadr/3/1/5/kinopoisk.ru-Westworld-3150572.jpg',\n",
      "            'https://st.kp.yandex.net/im/kadr/3/1/5/kinopoisk.ru-Westworld-3150573.jpg',\n",
      "            'https://st.kp.yandex.net/im/kadr/3/1/5/kinopoisk.ru-Westworld-3150574.jpg',\n",
      "            'https://st.kp.yandex.net/im/kadr/3/1/5/kinopoisk.ru-Westworld-3150575.jpg',\n",
      "            'https://st.kp.yandex.net/im/kadr/3/1/5/kinopoisk.ru-Westworld-3150576.jpg',\n",
      "            'https://st.kp.yandex.net/im/kadr/3/1/5/kinopoisk.ru-Westworld-3150577.jpg',\n",
      "            'https://st.kp.yandex.net/im/kadr/3/1/5/kinopoisk.ru-Westworld-3150578.jpg',\n",
      "            'https://st.kp.yandex.net/im/kadr/3/1/5/kinopoisk.ru-Westworld-3150579.jpg',\n",
      "            'https://st.kp.yandex.net/im/kadr/3/1/5/kinopoisk.ru-Westworld-3150580.jpg',\n",
      "            'https://st.kp.yandex.net/im/kadr/3/1/5/kinopoisk.ru-Westworld-3150581.jpg',\n",
      "            'https://st.kp.yandex.net/im/kadr/3/1/5/kinopoisk.ru-Westworld-3150582.jpg',\n",
      "            'https://st.kp.yandex.net/im/kadr/3/1/5/kinopoisk.ru-Westworld-3157048.jpg',\n",
      "            'https://st.kp.yandex.net/im/kadr/3/1/5/kinopoisk.ru-Westworld-3157049.jpg',\n",
      "            'https://st.kp.yandex.net/im/kadr/3/1/5/kinopoisk.ru-Westworld-3157050.jpg',\n",
      "            'https://st.kp.yandex.net/im/kadr/3/1/5/kinopoisk.ru-Westworld-3157051.jpg',\n",
      "            'https://st.kp.yandex.net/im/kadr/3/1/5/kinopoisk.ru-Westworld-3157052.jpg'],\n",
      " 'genres': ['Фантастика', 'Драма', 'Детектив', 'Вестерн'],\n",
      " 'hdvb': {'duration': None,\n",
      "          'episodes': None,\n",
      "          'quality': None,\n",
      "          'seasons': None,\n",
      "          'url': None,\n",
      "          'voice': None},\n",
      " 'id': '39202',\n",
      " 'id_kinopoisk': '195523',\n",
      " 'imdb_votes': None,\n",
      " 'kinopoisk_votes': None,\n",
      " 'kodik': {'duration': None,\n",
      "           'episodes': None,\n",
      "           'quality': None,\n",
      "           'seasons': None,\n",
      "           'url': None,\n",
      "           'voice': None},\n",
      " 'operators': ['Джон Грилло', 'Дэрран Тирнан', 'Брендан Гэлвин'],\n",
      " 'painters': ['Ховард Каммингс', 'Зак Гроблер', 'Нэйтан Краули'],\n",
      " 'poster': '//images.kinopoisk.cloud/posters/195523.jpg',\n",
      " 'premiere_russia': '3 октября 2016',\n",
      " 'premiere_world': '30 сентября 2016',\n",
      " 'producers': ['Джей Джей Абрамс', 'Сьюзэн Экинс', 'Лиза Джой'],\n",
      " 'rating_imdb': '8.7',\n",
      " 'rating_kinopoisk': '8',\n",
      " 'screenshots': None,\n",
      " 'screenwriters': ['Майкл Крайтон', 'Лиза Джой', 'Джонатан Нолан'],\n",
      " 'seasons': 3,\n",
      " 'tagline': '«Здесь начинается жизнь»',\n",
      " 'title': 'Мир Дикого Запада',\n",
      " 'title_alternative': 'Westworld',\n",
      " 'trailer': 'https://www.youtube.com/embed/0JRdQu4lnIU',\n",
      " 'type': 'tv-series',\n",
      " 'url': '568619-mir-dikogo-zapada-2016',\n",
      " 'videocdn': {'duration': None,\n",
      "              'episodes': None,\n",
      "              'quality': ['WEBRip', '4К', 'WEB-DL'],\n",
      "              'seasons': None,\n",
      "              'url': ['/serial/bdb0aec3b836528f46b884322dd5908ff5520e170a3061767ed4a1b2e13d27d0/iframe'],\n",
      "              'voice': ['Amedia', 'Дубляж [Лицензия]', 'Octopus']},\n",
      " 'year': 2016}\n"
     ]
    }
   ],
   "source": [
    "import requests\n",
    "from pprint import pprint\n",
    "token = \"token/your token here\"\n",
    "item = \"tv-series\"\n",
    "item_id = \"195523\"\n",
    "link = f\"https://api.kinopoisk.cloud/{item}/{item_id}/{token}\"\n",
    "\n",
    "result = requests.get(link)\n",
    "if result.status_code == 200:\n",
    "    pprint(result.json())\n",
    "else:\n",
    "    print(\"Something went wrong\", result.status_code)"
   ]
  },
  {
   "cell_type": "code",
   "execution_count": 1,
   "metadata": {
    "scrolled": true,
    "slideshow": {
     "slide_type": "slide"
    }
   },
   "outputs": [
    {
     "data": {
      "image/png": "[encoded data removed]",
      "text/plain": [
       "<Figure size 936x936 with 1 Axes>"
      ]
     },
     "metadata": {},
     "output_type": "display_data"
    }
   ],
   "source": [
    "import matplotlib.pyplot as plt\n",
    "import networkx as nx\n",
    "plt.rcParams[\"figure.figsize\"] = (13,13)\n",
    "\n",
    "actors = [\n",
    "    (\"Эван Рэйчел Вуд\"),\n",
    "    (\"Энтони Хопкинс\")\n",
    "\n",
    "]\n",
    "actors_per_films = [(\"Эван Рэйчел Вуд\", \"Энтони Хопкинс\", 1),\n",
    "                    (\"Эван Рэйчел Вуд\", \"Брэдд Питт\", 2),\n",
    "                    (\"Леонардо ди Каприо\", \"Брэдд Питт\", 5),\n",
    "                    (\"Брэдд Питт\", \"Анджелина Джоли\", 7)\n",
    "                    ]\n",
    "G = nx.Graph()\n",
    "G.add_nodes_from(actors)\n",
    "\n",
    "G.add_weighted_edges_from(actors_per_films)\n",
    "\n",
    "pos = nx.spring_layout(G, seed=7)\n",
    "weights = [item[-1] for item in actors_per_films]\n",
    "\n",
    "plt.figure(1)\n",
    "nx.draw_networkx_nodes(G, pos, node_size=1200)\n",
    "nx.draw_networkx_edges(G, pos, width=weights)\n",
    "\n",
    "nx.draw_networkx_labels(G, pos, font_size=15, font_family=\"sans-serif\")\n",
    "\n",
    "ax = plt.gca()\n",
    "ax.margins(0.4)\n",
    "plt.axis(\"off\")\n",
    "plt.show()"
   ]
  },
  {
   "cell_type": "code",
   "execution_count": 58,
   "metadata": {
    "slideshow": {
     "slide_type": "slide"
    }
   },
   "outputs": [
    {
     "data": {
      "text/html": [
       "\n",
       "        <iframe\n",
       "            width=\"500px\"\n",
       "            height=\"500px\"\n",
       "            src=\"pictures/result.html\"\n",
       "            frameborder=\"0\"\n",
       "            allowfullscreen\n",
       "        ></iframe>\n",
       "        "
      ],
      "text/plain": [
       "<IPython.lib.display.IFrame at 0x143ae45c0>"
      ]
     },
     "execution_count": 58,
     "metadata": {},
     "output_type": "execute_result"
    }
   ],
   "source": [
    "from pyvis import network as net\n",
    "\n",
    "g = net.Network(notebook=True)\n",
    "g.from_nx(G)\n",
    "g.show(\"pictures/result.html\")"
   ]
  }
 ],
 "metadata": {
  "celltoolbar": "Slideshow",
  "kernelspec": {
   "display_name": "Python 3",
   "language": "python",
   "name": "python3"
  },
  "language_info": {
   "codemirror_mode": {
    "name": "ipython",
    "version": 3
   },
   "file_extension": ".py",
   "mimetype": "text/x-python",
   "name": "python",
   "nbconvert_exporter": "python",
   "pygments_lexer": "ipython3",
   "version": "3.7.3"
  }
 },
 "nbformat": 4,
 "nbformat_minor": 4
}
